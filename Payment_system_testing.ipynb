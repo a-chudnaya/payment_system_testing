{
 "cells": [
  {
   "cell_type": "markdown",
   "metadata": {},
   "source": [
    "### Проект: вариант 2"
   ]
  },
  {
   "cell_type": "markdown",
   "metadata": {},
   "source": [
    "Импортируем нужные библиотеки для работы с файлами:"
   ]
  },
  {
   "cell_type": "code",
   "execution_count": 1,
   "metadata": {},
   "outputs": [],
   "source": [
    "import pandas as pd\n",
    "import numpy as np\n",
    "from datetime import timedelta\n",
    "\n",
    "import requests\n",
    "import json\n",
    "from urllib.parse import urlencode\n",
    "\n",
    "import pandahouse as ph\n",
    "\n",
    "import seaborn as sns\n",
    "import matplotlib.pyplot as plt\n",
    "%matplotlib inline\n",
    "\n",
    "import scipy.stats as ss\n",
    "from scipy.stats import bootstrap\n",
    "from scipy.stats import chi2_contingency, levene\n",
    "\n",
    "import warnings\n",
    "warnings.filterwarnings('ignore')"
   ]
  },
  {
   "cell_type": "markdown",
   "metadata": {},
   "source": [
    "### Задание 1. A/B–тестирование\n",
    "### 1.1 Условие\n",
    "\n",
    "Одной из основных задач аналитика в нашей команде является корректное проведение экспериментов. Для этого мы применяем метод A/B–тестирования. В ходе тестирования одной гипотезы целевой группе была предложена новая механика оплаты услуг на сайте, у контрольной группы оставалась базовая механика. В качестве задания Вам необходимо проанализировать итоги эксперимента и сделать вывод, стоит ли запускать новую механику оплаты на всех пользователей."
   ]
  },
  {
   "cell_type": "markdown",
   "metadata": {},
   "source": [
    "В качестве входных данных были использованы файлы с Яндекс.Диска, поэтому используем библиотеки requests, urllib.parse и формат json для создания ссылок на файлы и дальнейшего преобразования их пандасовский датафрейм"
   ]
  },
  {
   "cell_type": "markdown",
   "metadata": {},
   "source": [
    "Используем API и публичные ключи(поскольку ссылки на файлы открытые)"
   ]
  },
  {
   "cell_type": "code",
   "execution_count": 2,
   "metadata": {},
   "outputs": [],
   "source": [
    "base_url = 'https://cloud-api.yandex.net/v1/disk/public/resources/download?'"
   ]
  },
  {
   "cell_type": "code",
   "execution_count": 3,
   "metadata": {},
   "outputs": [],
   "source": [
    "public_key_for_groups='https://disk.yandex.ru/d/UhyYx41rTt3clQ'\n",
    "public_key_for_group_add='https://disk.yandex.ru/d/5Kxrz02m3IBUwQ'\n",
    "public_key_for_active_studs='https://disk.yandex.ru/d/Tbs44Bm6H_FwFQ'\n",
    "public_key_for_checks='https://disk.yandex.ru/d/pH1q-VqcxXjsVA'"
   ]
  },
  {
   "cell_type": "code",
   "execution_count": 4,
   "metadata": {},
   "outputs": [],
   "source": [
    "# Получаем загрузочную ссылку"
   ]
  },
  {
   "cell_type": "code",
   "execution_count": 5,
   "metadata": {},
   "outputs": [],
   "source": [
    "final_url_for_groups=base_url + urlencode(dict(public_key=public_key_for_groups))\n",
    "final_url_for_group_add=base_url + urlencode(dict(public_key=public_key_for_group_add))\n",
    "final_url_for_active_studs=base_url + urlencode(dict(public_key=public_key_for_active_studs))\n",
    "final_url_for_checks=base_url + urlencode(dict(public_key=public_key_for_checks))"
   ]
  },
  {
   "cell_type": "code",
   "execution_count": 6,
   "metadata": {},
   "outputs": [
    {
     "name": "stdout",
     "output_type": "stream",
     "text": [
      "<Response [200]>\n",
      "<Response [200]>\n",
      "<Response [200]>\n",
      "<Response [200]>\n"
     ]
    }
   ],
   "source": [
    "group_response=requests.get(final_url_for_groups)\n",
    "group_add_response=requests.get(final_url_for_group_add)\n",
    "active_studs_response=requests.get(final_url_for_active_studs)\n",
    "checks_response=requests.get(final_url_for_checks)\n",
    "print(group_response)\n",
    "print(group_add_response)\n",
    "print(active_studs_response)\n",
    "print(checks_response)\n",
    "#response<300, значит, все сработало корректно и без ошибок, ссылки создались"
   ]
  },
  {
   "cell_type": "code",
   "execution_count": 7,
   "metadata": {},
   "outputs": [],
   "source": [
    "download_url_for_groups        = group_response.json()['href']\n",
    "download_url_for_for_group_add = group_add_response.json()['href']\n",
    "download_url_for_active_studs  = active_studs_response.json()['href']\n",
    "download_url_for_checks        = checks_response.json()['href']"
   ]
  },
  {
   "cell_type": "code",
   "execution_count": 8,
   "metadata": {},
   "outputs": [],
   "source": [
    "# загружаем файлы в df\n",
    "groups=pd.read_csv(download_url_for_groups,sep=';')\n",
    "added_group=pd.read_csv(download_url_for_for_group_add)\n",
    "active_studs=pd.read_csv(download_url_for_active_studs)\n",
    "checks=pd.read_csv(download_url_for_checks, sep=';')"
   ]
  },
  {
   "cell_type": "markdown",
   "metadata": {},
   "source": [
    "### Проведем разведочный анализ данных(EDA, exploratory data analysis)"
   ]
  },
  {
   "cell_type": "code",
   "execution_count": 9,
   "metadata": {},
   "outputs": [
    {
     "data": {
      "text/plain": [
       "id      int64\n",
       "grp    object\n",
       "dtype: object"
      ]
     },
     "execution_count": 9,
     "metadata": {},
     "output_type": "execute_result"
    }
   ],
   "source": [
    "groups.dtypes"
   ]
  },
  {
   "cell_type": "code",
   "execution_count": 10,
   "metadata": {},
   "outputs": [
    {
     "data": {
      "text/plain": [
       "id      int64\n",
       "grp    object\n",
       "dtype: object"
      ]
     },
     "execution_count": 10,
     "metadata": {},
     "output_type": "execute_result"
    }
   ],
   "source": [
    "added_group.dtypes"
   ]
  },
  {
   "cell_type": "code",
   "execution_count": 11,
   "metadata": {},
   "outputs": [
    {
     "data": {
      "text/plain": [
       "student_id    int64\n",
       "dtype: object"
      ]
     },
     "execution_count": 11,
     "metadata": {},
     "output_type": "execute_result"
    }
   ],
   "source": [
    "active_studs.dtypes"
   ]
  },
  {
   "cell_type": "code",
   "execution_count": 12,
   "metadata": {},
   "outputs": [
    {
     "data": {
      "text/plain": [
       "student_id      int64\n",
       "rev           float64\n",
       "dtype: object"
      ]
     },
     "execution_count": 12,
     "metadata": {},
     "output_type": "execute_result"
    }
   ],
   "source": [
    "checks.dtypes"
   ]
  },
  {
   "cell_type": "code",
   "execution_count": 13,
   "metadata": {},
   "outputs": [
    {
     "data": {
      "text/plain": [
       "(74484, 2)"
      ]
     },
     "execution_count": 13,
     "metadata": {},
     "output_type": "execute_result"
    }
   ],
   "source": [
    "groups.shape"
   ]
  },
  {
   "cell_type": "code",
   "execution_count": 14,
   "metadata": {},
   "outputs": [
    {
     "data": {
      "text/plain": [
       "(92, 2)"
      ]
     },
     "execution_count": 14,
     "metadata": {},
     "output_type": "execute_result"
    }
   ],
   "source": [
    "added_group.shape"
   ]
  },
  {
   "cell_type": "code",
   "execution_count": 15,
   "metadata": {},
   "outputs": [
    {
     "data": {
      "text/plain": [
       "(8341, 1)"
      ]
     },
     "execution_count": 15,
     "metadata": {},
     "output_type": "execute_result"
    }
   ],
   "source": [
    "active_studs.shape"
   ]
  },
  {
   "cell_type": "code",
   "execution_count": 16,
   "metadata": {},
   "outputs": [
    {
     "data": {
      "text/plain": [
       "(541, 2)"
      ]
     },
     "execution_count": 16,
     "metadata": {},
     "output_type": "execute_result"
    }
   ],
   "source": [
    "checks.shape"
   ]
  },
  {
   "cell_type": "code",
   "execution_count": 17,
   "metadata": {},
   "outputs": [],
   "source": [
    "#Типы данных совпадают, количество столбцов и строк разное, учитывая что в них записано, это нормально"
   ]
  },
  {
   "cell_type": "markdown",
   "metadata": {},
   "source": [
    "Проверяем пропущенные значения в датафреймах через df.isna().sum(), где df-наши датафреймы"
   ]
  },
  {
   "cell_type": "code",
   "execution_count": 18,
   "metadata": {},
   "outputs": [
    {
     "data": {
      "text/plain": [
       "id     0\n",
       "grp    0\n",
       "dtype: int64"
      ]
     },
     "execution_count": 18,
     "metadata": {},
     "output_type": "execute_result"
    }
   ],
   "source": [
    "groups.isna().sum()"
   ]
  },
  {
   "cell_type": "code",
   "execution_count": 19,
   "metadata": {},
   "outputs": [
    {
     "data": {
      "text/plain": [
       "id     0\n",
       "grp    0\n",
       "dtype: int64"
      ]
     },
     "execution_count": 19,
     "metadata": {},
     "output_type": "execute_result"
    }
   ],
   "source": [
    "added_group.isna().sum()"
   ]
  },
  {
   "cell_type": "code",
   "execution_count": 20,
   "metadata": {},
   "outputs": [
    {
     "data": {
      "text/plain": [
       "student_id    0\n",
       "dtype: int64"
      ]
     },
     "execution_count": 20,
     "metadata": {},
     "output_type": "execute_result"
    }
   ],
   "source": [
    "active_studs.isna().sum()"
   ]
  },
  {
   "cell_type": "code",
   "execution_count": 21,
   "metadata": {},
   "outputs": [
    {
     "data": {
      "text/plain": [
       "student_id    0\n",
       "rev           0\n",
       "dtype: int64"
      ]
     },
     "execution_count": 21,
     "metadata": {},
     "output_type": "execute_result"
    }
   ],
   "source": [
    "checks.isna().sum()"
   ]
  },
  {
   "cell_type": "code",
   "execution_count": 22,
   "metadata": {},
   "outputs": [
    {
     "data": {
      "text/html": [
       "<div>\n",
       "<style scoped>\n",
       "    .dataframe tbody tr th:only-of-type {\n",
       "        vertical-align: middle;\n",
       "    }\n",
       "\n",
       "    .dataframe tbody tr th {\n",
       "        vertical-align: top;\n",
       "    }\n",
       "\n",
       "    .dataframe thead th {\n",
       "        text-align: right;\n",
       "    }\n",
       "</style>\n",
       "<table border=\"1\" class=\"dataframe\">\n",
       "  <thead>\n",
       "    <tr style=\"text-align: right;\">\n",
       "      <th></th>\n",
       "      <th>id</th>\n",
       "      <th>grp</th>\n",
       "    </tr>\n",
       "  </thead>\n",
       "  <tbody>\n",
       "  </tbody>\n",
       "</table>\n",
       "</div>"
      ],
      "text/plain": [
       "Empty DataFrame\n",
       "Columns: [id, grp]\n",
       "Index: []"
      ]
     },
     "execution_count": 22,
     "metadata": {},
     "output_type": "execute_result"
    }
   ],
   "source": [
    "groups.loc[groups.duplicated()] "
   ]
  },
  {
   "cell_type": "code",
   "execution_count": 23,
   "metadata": {},
   "outputs": [
    {
     "data": {
      "text/html": [
       "<div>\n",
       "<style scoped>\n",
       "    .dataframe tbody tr th:only-of-type {\n",
       "        vertical-align: middle;\n",
       "    }\n",
       "\n",
       "    .dataframe tbody tr th {\n",
       "        vertical-align: top;\n",
       "    }\n",
       "\n",
       "    .dataframe thead th {\n",
       "        text-align: right;\n",
       "    }\n",
       "</style>\n",
       "<table border=\"1\" class=\"dataframe\">\n",
       "  <thead>\n",
       "    <tr style=\"text-align: right;\">\n",
       "      <th></th>\n",
       "      <th>id</th>\n",
       "      <th>grp</th>\n",
       "    </tr>\n",
       "  </thead>\n",
       "  <tbody>\n",
       "  </tbody>\n",
       "</table>\n",
       "</div>"
      ],
      "text/plain": [
       "Empty DataFrame\n",
       "Columns: [id, grp]\n",
       "Index: []"
      ]
     },
     "execution_count": 23,
     "metadata": {},
     "output_type": "execute_result"
    }
   ],
   "source": [
    "added_group.loc[added_group.duplicated()] "
   ]
  },
  {
   "cell_type": "code",
   "execution_count": 24,
   "metadata": {},
   "outputs": [
    {
     "data": {
      "text/html": [
       "<div>\n",
       "<style scoped>\n",
       "    .dataframe tbody tr th:only-of-type {\n",
       "        vertical-align: middle;\n",
       "    }\n",
       "\n",
       "    .dataframe tbody tr th {\n",
       "        vertical-align: top;\n",
       "    }\n",
       "\n",
       "    .dataframe thead th {\n",
       "        text-align: right;\n",
       "    }\n",
       "</style>\n",
       "<table border=\"1\" class=\"dataframe\">\n",
       "  <thead>\n",
       "    <tr style=\"text-align: right;\">\n",
       "      <th></th>\n",
       "      <th>student_id</th>\n",
       "    </tr>\n",
       "  </thead>\n",
       "  <tbody>\n",
       "  </tbody>\n",
       "</table>\n",
       "</div>"
      ],
      "text/plain": [
       "Empty DataFrame\n",
       "Columns: [student_id]\n",
       "Index: []"
      ]
     },
     "execution_count": 24,
     "metadata": {},
     "output_type": "execute_result"
    }
   ],
   "source": [
    "active_studs.loc[active_studs.duplicated()] "
   ]
  },
  {
   "cell_type": "code",
   "execution_count": 25,
   "metadata": {},
   "outputs": [
    {
     "data": {
      "text/html": [
       "<div>\n",
       "<style scoped>\n",
       "    .dataframe tbody tr th:only-of-type {\n",
       "        vertical-align: middle;\n",
       "    }\n",
       "\n",
       "    .dataframe tbody tr th {\n",
       "        vertical-align: top;\n",
       "    }\n",
       "\n",
       "    .dataframe thead th {\n",
       "        text-align: right;\n",
       "    }\n",
       "</style>\n",
       "<table border=\"1\" class=\"dataframe\">\n",
       "  <thead>\n",
       "    <tr style=\"text-align: right;\">\n",
       "      <th></th>\n",
       "      <th>student_id</th>\n",
       "      <th>rev</th>\n",
       "    </tr>\n",
       "  </thead>\n",
       "  <tbody>\n",
       "  </tbody>\n",
       "</table>\n",
       "</div>"
      ],
      "text/plain": [
       "Empty DataFrame\n",
       "Columns: [student_id, rev]\n",
       "Index: []"
      ]
     },
     "execution_count": 25,
     "metadata": {},
     "output_type": "execute_result"
    }
   ],
   "source": [
    "checks.loc[checks.duplicated()] "
   ]
  },
  {
   "cell_type": "code",
   "execution_count": 26,
   "metadata": {},
   "outputs": [],
   "source": [
    "#дубликатов в датафреймах нет, пропущенные значения отсутствуют"
   ]
  },
  {
   "cell_type": "code",
   "execution_count": 27,
   "metadata": {},
   "outputs": [],
   "source": [
    "#посмотрим на данные в датафреймах"
   ]
  },
  {
   "cell_type": "code",
   "execution_count": 28,
   "metadata": {},
   "outputs": [
    {
     "data": {
      "text/html": [
       "<div>\n",
       "<style scoped>\n",
       "    .dataframe tbody tr th:only-of-type {\n",
       "        vertical-align: middle;\n",
       "    }\n",
       "\n",
       "    .dataframe tbody tr th {\n",
       "        vertical-align: top;\n",
       "    }\n",
       "\n",
       "    .dataframe thead th {\n",
       "        text-align: right;\n",
       "    }\n",
       "</style>\n",
       "<table border=\"1\" class=\"dataframe\">\n",
       "  <thead>\n",
       "    <tr style=\"text-align: right;\">\n",
       "      <th></th>\n",
       "      <th>id</th>\n",
       "      <th>grp</th>\n",
       "    </tr>\n",
       "  </thead>\n",
       "  <tbody>\n",
       "    <tr>\n",
       "      <th>0</th>\n",
       "      <td>1489</td>\n",
       "      <td>B</td>\n",
       "    </tr>\n",
       "    <tr>\n",
       "      <th>1</th>\n",
       "      <td>1627</td>\n",
       "      <td>A</td>\n",
       "    </tr>\n",
       "    <tr>\n",
       "      <th>2</th>\n",
       "      <td>1768</td>\n",
       "      <td>B</td>\n",
       "    </tr>\n",
       "  </tbody>\n",
       "</table>\n",
       "</div>"
      ],
      "text/plain": [
       "     id grp\n",
       "0  1489   B\n",
       "1  1627   A\n",
       "2  1768   B"
      ]
     },
     "execution_count": 28,
     "metadata": {},
     "output_type": "execute_result"
    }
   ],
   "source": [
    "groups.head(3)\n",
    "#группе (А – контроль, B – эксперимент)"
   ]
  },
  {
   "cell_type": "code",
   "execution_count": 29,
   "metadata": {},
   "outputs": [
    {
     "data": {
      "text/html": [
       "<div>\n",
       "<style scoped>\n",
       "    .dataframe tbody tr th:only-of-type {\n",
       "        vertical-align: middle;\n",
       "    }\n",
       "\n",
       "    .dataframe tbody tr th {\n",
       "        vertical-align: top;\n",
       "    }\n",
       "\n",
       "    .dataframe thead th {\n",
       "        text-align: right;\n",
       "    }\n",
       "</style>\n",
       "<table border=\"1\" class=\"dataframe\">\n",
       "  <thead>\n",
       "    <tr style=\"text-align: right;\">\n",
       "      <th></th>\n",
       "      <th>id</th>\n",
       "      <th>grp</th>\n",
       "    </tr>\n",
       "  </thead>\n",
       "  <tbody>\n",
       "    <tr>\n",
       "      <th>0</th>\n",
       "      <td>5694584</td>\n",
       "      <td>B</td>\n",
       "    </tr>\n",
       "    <tr>\n",
       "      <th>1</th>\n",
       "      <td>5694830</td>\n",
       "      <td>B</td>\n",
       "    </tr>\n",
       "    <tr>\n",
       "      <th>2</th>\n",
       "      <td>5695057</td>\n",
       "      <td>B</td>\n",
       "    </tr>\n",
       "  </tbody>\n",
       "</table>\n",
       "</div>"
      ],
      "text/plain": [
       "        id grp\n",
       "0  5694584   B\n",
       "1  5694830   B\n",
       "2  5695057   B"
      ]
     },
     "execution_count": 29,
     "metadata": {},
     "output_type": "execute_result"
    }
   ],
   "source": [
    "added_group.head(3)"
   ]
  },
  {
   "cell_type": "code",
   "execution_count": 30,
   "metadata": {},
   "outputs": [
    {
     "data": {
      "text/html": [
       "<div>\n",
       "<style scoped>\n",
       "    .dataframe tbody tr th:only-of-type {\n",
       "        vertical-align: middle;\n",
       "    }\n",
       "\n",
       "    .dataframe tbody tr th {\n",
       "        vertical-align: top;\n",
       "    }\n",
       "\n",
       "    .dataframe thead th {\n",
       "        text-align: right;\n",
       "    }\n",
       "</style>\n",
       "<table border=\"1\" class=\"dataframe\">\n",
       "  <thead>\n",
       "    <tr style=\"text-align: right;\">\n",
       "      <th></th>\n",
       "      <th>student_id</th>\n",
       "    </tr>\n",
       "  </thead>\n",
       "  <tbody>\n",
       "    <tr>\n",
       "      <th>0</th>\n",
       "      <td>581585</td>\n",
       "    </tr>\n",
       "    <tr>\n",
       "      <th>1</th>\n",
       "      <td>5723133</td>\n",
       "    </tr>\n",
       "    <tr>\n",
       "      <th>2</th>\n",
       "      <td>3276743</td>\n",
       "    </tr>\n",
       "  </tbody>\n",
       "</table>\n",
       "</div>"
      ],
      "text/plain": [
       "   student_id\n",
       "0      581585\n",
       "1     5723133\n",
       "2     3276743"
      ]
     },
     "execution_count": 30,
     "metadata": {},
     "output_type": "execute_result"
    }
   ],
   "source": [
    "active_studs.head(3)"
   ]
  },
  {
   "cell_type": "code",
   "execution_count": 31,
   "metadata": {},
   "outputs": [
    {
     "data": {
      "text/html": [
       "<div>\n",
       "<style scoped>\n",
       "    .dataframe tbody tr th:only-of-type {\n",
       "        vertical-align: middle;\n",
       "    }\n",
       "\n",
       "    .dataframe tbody tr th {\n",
       "        vertical-align: top;\n",
       "    }\n",
       "\n",
       "    .dataframe thead th {\n",
       "        text-align: right;\n",
       "    }\n",
       "</style>\n",
       "<table border=\"1\" class=\"dataframe\">\n",
       "  <thead>\n",
       "    <tr style=\"text-align: right;\">\n",
       "      <th></th>\n",
       "      <th>student_id</th>\n",
       "      <th>rev</th>\n",
       "    </tr>\n",
       "  </thead>\n",
       "  <tbody>\n",
       "    <tr>\n",
       "      <th>0</th>\n",
       "      <td>1627</td>\n",
       "      <td>990.0</td>\n",
       "    </tr>\n",
       "    <tr>\n",
       "      <th>1</th>\n",
       "      <td>3185</td>\n",
       "      <td>690.0</td>\n",
       "    </tr>\n",
       "    <tr>\n",
       "      <th>2</th>\n",
       "      <td>25973</td>\n",
       "      <td>690.0</td>\n",
       "    </tr>\n",
       "  </tbody>\n",
       "</table>\n",
       "</div>"
      ],
      "text/plain": [
       "   student_id    rev\n",
       "0        1627  990.0\n",
       "1        3185  690.0\n",
       "2       25973  690.0"
      ]
     },
     "execution_count": 31,
     "metadata": {},
     "output_type": "execute_result"
    }
   ],
   "source": [
    "checks.head(3)"
   ]
  },
  {
   "cell_type": "code",
   "execution_count": 32,
   "metadata": {},
   "outputs": [],
   "source": [
    "#объединим датафреймы groups и added_group\n",
    "full_group=pd.concat([groups, added_group], ignore_index=True)"
   ]
  },
  {
   "cell_type": "code",
   "execution_count": 33,
   "metadata": {},
   "outputs": [
    {
     "data": {
      "text/html": [
       "<div>\n",
       "<style scoped>\n",
       "    .dataframe tbody tr th:only-of-type {\n",
       "        vertical-align: middle;\n",
       "    }\n",
       "\n",
       "    .dataframe tbody tr th {\n",
       "        vertical-align: top;\n",
       "    }\n",
       "\n",
       "    .dataframe thead th {\n",
       "        text-align: right;\n",
       "    }\n",
       "</style>\n",
       "<table border=\"1\" class=\"dataframe\">\n",
       "  <thead>\n",
       "    <tr style=\"text-align: right;\">\n",
       "      <th></th>\n",
       "      <th>id</th>\n",
       "      <th>grp</th>\n",
       "    </tr>\n",
       "  </thead>\n",
       "  <tbody>\n",
       "    <tr>\n",
       "      <th>0</th>\n",
       "      <td>1489</td>\n",
       "      <td>B</td>\n",
       "    </tr>\n",
       "    <tr>\n",
       "      <th>1</th>\n",
       "      <td>1627</td>\n",
       "      <td>A</td>\n",
       "    </tr>\n",
       "    <tr>\n",
       "      <th>2</th>\n",
       "      <td>1768</td>\n",
       "      <td>B</td>\n",
       "    </tr>\n",
       "  </tbody>\n",
       "</table>\n",
       "</div>"
      ],
      "text/plain": [
       "     id grp\n",
       "0  1489   B\n",
       "1  1627   A\n",
       "2  1768   B"
      ]
     },
     "execution_count": 33,
     "metadata": {},
     "output_type": "execute_result"
    }
   ],
   "source": [
    "full_group.head(3)"
   ]
  },
  {
   "cell_type": "code",
   "execution_count": 34,
   "metadata": {},
   "outputs": [
    {
     "data": {
      "text/html": [
       "<div>\n",
       "<style scoped>\n",
       "    .dataframe tbody tr th:only-of-type {\n",
       "        vertical-align: middle;\n",
       "    }\n",
       "\n",
       "    .dataframe tbody tr th {\n",
       "        vertical-align: top;\n",
       "    }\n",
       "\n",
       "    .dataframe thead th {\n",
       "        text-align: right;\n",
       "    }\n",
       "</style>\n",
       "<table border=\"1\" class=\"dataframe\">\n",
       "  <thead>\n",
       "    <tr style=\"text-align: right;\">\n",
       "      <th></th>\n",
       "      <th>grp</th>\n",
       "      <th>id</th>\n",
       "    </tr>\n",
       "  </thead>\n",
       "  <tbody>\n",
       "    <tr>\n",
       "      <th>0</th>\n",
       "      <td>A</td>\n",
       "      <td>14693</td>\n",
       "    </tr>\n",
       "    <tr>\n",
       "      <th>1</th>\n",
       "      <td>B</td>\n",
       "      <td>59883</td>\n",
       "    </tr>\n",
       "  </tbody>\n",
       "</table>\n",
       "</div>"
      ],
      "text/plain": [
       "  grp     id\n",
       "0   A  14693\n",
       "1   B  59883"
      ]
     },
     "execution_count": 34,
     "metadata": {},
     "output_type": "execute_result"
    }
   ],
   "source": [
    "#посмотрим на количество \n",
    "df=full_group.groupby('grp').agg({'id': 'count'}).reset_index()\n",
    "#группе (А – контроль, B – эксперимент)\n",
    "df.head()"
   ]
  },
  {
   "cell_type": "code",
   "execution_count": 35,
   "metadata": {},
   "outputs": [
    {
     "data": {
      "text/plain": [
       "<matplotlib.axes._subplots.AxesSubplot at 0x7fb56b5c2da0>"
      ]
     },
     "execution_count": 35,
     "metadata": {},
     "output_type": "execute_result"
    },
    {
     "data": {
      "image/png": "[encoded data removed]",
      "text/plain": [
       "<Figure size 432x288 with 1 Axes>"
      ]
     },
     "metadata": {
      "needs_background": "light"
     },
     "output_type": "display_data"
    }
   ],
   "source": [
    "sns.countplot(data=full_group, x='grp',palette=\"colorblind\")"
   ]
  },
  {
   "cell_type": "markdown",
   "metadata": {},
   "source": [
    "В группе \"B\", то есть в эксперементальной группе, чуть больше чем в 4 раза, чем в контрольной группе \"A\",  что может говорить о том, что продуктовая команда решила на большее число клиентов развернуть новую механику оплаты услуг на сайте, в любом случае, количество данных для A/B анализа достаточно, слишком большого перевеса нет."
   ]
  },
  {
   "cell_type": "code",
   "execution_count": 36,
   "metadata": {},
   "outputs": [],
   "source": [
    "full_group_copy=full_group.copy(deep=True)"
   ]
  },
  {
   "cell_type": "code",
   "execution_count": 37,
   "metadata": {},
   "outputs": [],
   "source": [
    "# Поскольку нам важны не все-все юзеры, а данные по студентам, которые участововали в дни A-B теста, используем левый джойн."
   ]
  },
  {
   "cell_type": "code",
   "execution_count": 38,
   "metadata": {},
   "outputs": [],
   "source": [
    "users_on_testing      =active_studs.merge(full_group_copy, left_on='student_id', right_on='id', how='left')\n",
    "users_on_testing_days = users_on_testing.drop('id', axis=1)"
   ]
  },
  {
   "cell_type": "markdown",
   "metadata": {},
   "source": [
    "Поскольку рассматривать конверсию перехода на сайт в дни тестирования по группам не имеет смысла(т.к. мы тестируем \n",
    "гипотезы, больше связанные с технической частью работы продукта), а не маркетинговые гипотезы(нет такой задачи и данных о рекламе), основной целью которых являются конверсии с переходами на сайт/ приложения компании, в качестве основго датафрейма будем использовать users_on_testing_days\n"
   ]
  },
  {
   "cell_type": "code",
   "execution_count": 39,
   "metadata": {},
   "outputs": [],
   "source": [
    "#переименуем столбец с названием групп для красоты\n",
    "users_on_testing_days=users_on_testing_days.rename(columns={'grp':'group'})"
   ]
  },
  {
   "cell_type": "code",
   "execution_count": 40,
   "metadata": {},
   "outputs": [
    {
     "data": {
      "text/html": [
       "<div>\n",
       "<style scoped>\n",
       "    .dataframe tbody tr th:only-of-type {\n",
       "        vertical-align: middle;\n",
       "    }\n",
       "\n",
       "    .dataframe tbody tr th {\n",
       "        vertical-align: top;\n",
       "    }\n",
       "\n",
       "    .dataframe thead th {\n",
       "        text-align: right;\n",
       "    }\n",
       "</style>\n",
       "<table border=\"1\" class=\"dataframe\">\n",
       "  <thead>\n",
       "    <tr style=\"text-align: right;\">\n",
       "      <th></th>\n",
       "      <th>student_id</th>\n",
       "      <th>group</th>\n",
       "    </tr>\n",
       "  </thead>\n",
       "  <tbody>\n",
       "    <tr>\n",
       "      <th>0</th>\n",
       "      <td>581585</td>\n",
       "      <td>A</td>\n",
       "    </tr>\n",
       "    <tr>\n",
       "      <th>1</th>\n",
       "      <td>5723133</td>\n",
       "      <td>A</td>\n",
       "    </tr>\n",
       "    <tr>\n",
       "      <th>2</th>\n",
       "      <td>3276743</td>\n",
       "      <td>B</td>\n",
       "    </tr>\n",
       "    <tr>\n",
       "      <th>3</th>\n",
       "      <td>4238589</td>\n",
       "      <td>A</td>\n",
       "    </tr>\n",
       "    <tr>\n",
       "      <th>4</th>\n",
       "      <td>4475369</td>\n",
       "      <td>B</td>\n",
       "    </tr>\n",
       "  </tbody>\n",
       "</table>\n",
       "</div>"
      ],
      "text/plain": [
       "   student_id group\n",
       "0      581585     A\n",
       "1     5723133     A\n",
       "2     3276743     B\n",
       "3     4238589     A\n",
       "4     4475369     B"
      ]
     },
     "execution_count": 40,
     "metadata": {},
     "output_type": "execute_result"
    }
   ],
   "source": [
    "users_on_testing_days.head()"
   ]
  },
  {
   "cell_type": "code",
   "execution_count": 41,
   "metadata": {},
   "outputs": [
    {
     "data": {
      "text/plain": [
       "student_id    0\n",
       "group         0\n",
       "dtype: int64"
      ]
     },
     "execution_count": 41,
     "metadata": {},
     "output_type": "execute_result"
    }
   ],
   "source": [
    "users_on_testing_days.isna().sum()"
   ]
  },
  {
   "cell_type": "code",
   "execution_count": 42,
   "metadata": {},
   "outputs": [
    {
     "data": {
      "text/plain": [
       "<matplotlib.axes._subplots.AxesSubplot at 0x7fb56b0d63c8>"
      ]
     },
     "execution_count": 42,
     "metadata": {},
     "output_type": "execute_result"
    },
    {
     "data": {
      "image/png": "[encoded data removed]",
      "text/plain": [
       "<Figure size 432x288 with 1 Axes>"
      ]
     },
     "metadata": {
      "needs_background": "light"
     },
     "output_type": "display_data"
    }
   ],
   "source": [
    "sns.countplot(data=users_on_testing_days, x='group',palette=\"colorblind\")"
   ]
  },
  {
   "cell_type": "code",
   "execution_count": 43,
   "metadata": {},
   "outputs": [
    {
     "data": {
      "text/plain": [
       "(8341, 2)"
      ]
     },
     "execution_count": 43,
     "metadata": {},
     "output_type": "execute_result"
    }
   ],
   "source": [
    "users_on_testing_days.shape"
   ]
  },
  {
   "cell_type": "code",
   "execution_count": 44,
   "metadata": {},
   "outputs": [
    {
     "data": {
      "text/plain": [
       "(541, 2)"
      ]
     },
     "execution_count": 44,
     "metadata": {},
     "output_type": "execute_result"
    }
   ],
   "source": [
    "checks.shape"
   ]
  },
  {
   "cell_type": "markdown",
   "metadata": {},
   "source": [
    "Объединяем данные с данными студентов, которые были на сайте в период A/B теста с данными об оплатах клиентов во время эксперимента"
   ]
  },
  {
   "cell_type": "code",
   "execution_count": 45,
   "metadata": {},
   "outputs": [],
   "source": [
    "users_on_testing_with_checks=users_on_testing_days.merge(checks, how='left',on='student_id')"
   ]
  },
  {
   "cell_type": "code",
   "execution_count": 46,
   "metadata": {},
   "outputs": [
    {
     "data": {
      "text/html": [
       "<div>\n",
       "<style scoped>\n",
       "    .dataframe tbody tr th:only-of-type {\n",
       "        vertical-align: middle;\n",
       "    }\n",
       "\n",
       "    .dataframe tbody tr th {\n",
       "        vertical-align: top;\n",
       "    }\n",
       "\n",
       "    .dataframe thead th {\n",
       "        text-align: right;\n",
       "    }\n",
       "</style>\n",
       "<table border=\"1\" class=\"dataframe\">\n",
       "  <thead>\n",
       "    <tr style=\"text-align: right;\">\n",
       "      <th></th>\n",
       "      <th>student_id</th>\n",
       "      <th>group</th>\n",
       "      <th>rev</th>\n",
       "    </tr>\n",
       "  </thead>\n",
       "  <tbody>\n",
       "    <tr>\n",
       "      <th>0</th>\n",
       "      <td>581585</td>\n",
       "      <td>A</td>\n",
       "      <td>NaN</td>\n",
       "    </tr>\n",
       "    <tr>\n",
       "      <th>1</th>\n",
       "      <td>5723133</td>\n",
       "      <td>A</td>\n",
       "      <td>NaN</td>\n",
       "    </tr>\n",
       "    <tr>\n",
       "      <th>2</th>\n",
       "      <td>3276743</td>\n",
       "      <td>B</td>\n",
       "      <td>NaN</td>\n",
       "    </tr>\n",
       "    <tr>\n",
       "      <th>3</th>\n",
       "      <td>4238589</td>\n",
       "      <td>A</td>\n",
       "      <td>NaN</td>\n",
       "    </tr>\n",
       "    <tr>\n",
       "      <th>4</th>\n",
       "      <td>4475369</td>\n",
       "      <td>B</td>\n",
       "      <td>NaN</td>\n",
       "    </tr>\n",
       "  </tbody>\n",
       "</table>\n",
       "</div>"
      ],
      "text/plain": [
       "   student_id group  rev\n",
       "0      581585     A  NaN\n",
       "1     5723133     A  NaN\n",
       "2     3276743     B  NaN\n",
       "3     4238589     A  NaN\n",
       "4     4475369     B  NaN"
      ]
     },
     "execution_count": 46,
     "metadata": {},
     "output_type": "execute_result"
    }
   ],
   "source": [
    "users_on_testing_with_checks.head()"
   ]
  },
  {
   "cell_type": "code",
   "execution_count": 47,
   "metadata": {},
   "outputs": [],
   "source": [
    "users_and_checks=users_on_testing_with_checks.groupby(['group','student_id']).agg({'rev':'sum'}).reset_index()"
   ]
  },
  {
   "cell_type": "markdown",
   "metadata": {},
   "source": [
    "Гипотеза 1.Нулевая гипотеза-конверсия в покупку в дни тестирования не отличается в зависимости от выбранной группы(контрольная и тестовая). H1-конверсия в покупку в зависимости от выбранной группы стат.значимо отличается."
   ]
  },
  {
   "cell_type": "code",
   "execution_count": 48,
   "metadata": {},
   "outputs": [],
   "source": [
    "#напишем функцию, которая для тех, кто сделал целевое действие(заплатил), ставил 1, а для тех, кто нет, ноль соответственно."
   ]
  },
  {
   "cell_type": "code",
   "execution_count": 49,
   "metadata": {},
   "outputs": [],
   "source": [
    "def f(row):\n",
    "    if row['rev']>0:\n",
    "        val = 1\n",
    "    else:\n",
    "        val = 0\n",
    "    return val"
   ]
  },
  {
   "cell_type": "code",
   "execution_count": 50,
   "metadata": {},
   "outputs": [],
   "source": [
    "users_and_checks['is_paid'] = users_and_checks.apply(f, axis=1)"
   ]
  },
  {
   "cell_type": "code",
   "execution_count": 51,
   "metadata": {},
   "outputs": [
    {
     "data": {
      "text/html": [
       "<div>\n",
       "<style scoped>\n",
       "    .dataframe tbody tr th:only-of-type {\n",
       "        vertical-align: middle;\n",
       "    }\n",
       "\n",
       "    .dataframe tbody tr th {\n",
       "        vertical-align: top;\n",
       "    }\n",
       "\n",
       "    .dataframe thead th {\n",
       "        text-align: right;\n",
       "    }\n",
       "</style>\n",
       "<table border=\"1\" class=\"dataframe\">\n",
       "  <thead>\n",
       "    <tr style=\"text-align: right;\">\n",
       "      <th></th>\n",
       "      <th>group</th>\n",
       "      <th>student_id</th>\n",
       "      <th>rev</th>\n",
       "      <th>is_paid</th>\n",
       "    </tr>\n",
       "  </thead>\n",
       "  <tbody>\n",
       "    <tr>\n",
       "      <th>0</th>\n",
       "      <td>A</td>\n",
       "      <td>1627</td>\n",
       "      <td>990.0</td>\n",
       "      <td>1</td>\n",
       "    </tr>\n",
       "    <tr>\n",
       "      <th>1</th>\n",
       "      <td>A</td>\n",
       "      <td>3391</td>\n",
       "      <td>0.0</td>\n",
       "      <td>0</td>\n",
       "    </tr>\n",
       "    <tr>\n",
       "      <th>2</th>\n",
       "      <td>A</td>\n",
       "      <td>109623</td>\n",
       "      <td>0.0</td>\n",
       "      <td>0</td>\n",
       "    </tr>\n",
       "    <tr>\n",
       "      <th>3</th>\n",
       "      <td>A</td>\n",
       "      <td>133678</td>\n",
       "      <td>0.0</td>\n",
       "      <td>0</td>\n",
       "    </tr>\n",
       "    <tr>\n",
       "      <th>4</th>\n",
       "      <td>A</td>\n",
       "      <td>175944</td>\n",
       "      <td>0.0</td>\n",
       "      <td>0</td>\n",
       "    </tr>\n",
       "  </tbody>\n",
       "</table>\n",
       "</div>"
      ],
      "text/plain": [
       "  group  student_id    rev  is_paid\n",
       "0     A        1627  990.0        1\n",
       "1     A        3391    0.0        0\n",
       "2     A      109623    0.0        0\n",
       "3     A      133678    0.0        0\n",
       "4     A      175944    0.0        0"
      ]
     },
     "execution_count": 51,
     "metadata": {},
     "output_type": "execute_result"
    }
   ],
   "source": [
    "users_and_checks.head()"
   ]
  },
  {
   "cell_type": "code",
   "execution_count": 52,
   "metadata": {},
   "outputs": [
    {
     "data": {
      "text/plain": [
       "group  is_paid\n",
       "A      0          1460\n",
       "       1            78\n",
       "B      0          6489\n",
       "       1           314\n",
       "Name: is_paid, dtype: int64"
      ]
     },
     "execution_count": 52,
     "metadata": {},
     "output_type": "execute_result"
    }
   ],
   "source": [
    "users_and_checks.groupby('group').is_paid.value_counts()"
   ]
  },
  {
   "cell_type": "code",
   "execution_count": 53,
   "metadata": {},
   "outputs": [],
   "source": [
    "control_group=users_and_checks.query('group==\"A\"')"
   ]
  },
  {
   "cell_type": "code",
   "execution_count": 54,
   "metadata": {},
   "outputs": [],
   "source": [
    "testing_group=users_and_checks.query('group==\"B\"')"
   ]
  },
  {
   "cell_type": "code",
   "execution_count": 55,
   "metadata": {},
   "outputs": [],
   "source": [
    "#посмотрим на количество клиентов(оплативших и не оплативших на сайте в течение тестирования)"
   ]
  },
  {
   "cell_type": "code",
   "execution_count": 56,
   "metadata": {},
   "outputs": [],
   "source": [
    "sum_control_is_paid=control_group['is_paid'].sum()\n",
    "sum_testing_is_paid=testing_group['is_paid'].sum()"
   ]
  },
  {
   "cell_type": "code",
   "execution_count": 57,
   "metadata": {},
   "outputs": [],
   "source": [
    "not_paid_test=testing_group['is_paid'].size-testing_group['is_paid'].sum()\n",
    "not_paid_control=control_group['is_paid'].size-control_group['is_paid'].sum()"
   ]
  },
  {
   "cell_type": "code",
   "execution_count": 58,
   "metadata": {},
   "outputs": [],
   "source": [
    "#Посчитаем конверсию в покупку на сайте в дни тестирования"
   ]
  },
  {
   "cell_type": "code",
   "execution_count": 59,
   "metadata": {},
   "outputs": [
    {
     "name": "stdout",
     "output_type": "stream",
     "text": [
      "0.05071521456436931\n"
     ]
    }
   ],
   "source": [
    "cr_of_control=control_group['is_paid'].sum()/control_group['is_paid'].size\n",
    "print(cr_of_control)"
   ]
  },
  {
   "cell_type": "code",
   "execution_count": 60,
   "metadata": {},
   "outputs": [
    {
     "name": "stdout",
     "output_type": "stream",
     "text": [
      "0.046156107599588415\n"
     ]
    }
   ],
   "source": [
    "cr_of_testing=testing_group['is_paid'].sum()/testing_group['is_paid'].size\n",
    "print(cr_of_testing)"
   ]
  },
  {
   "cell_type": "code",
   "execution_count": 61,
   "metadata": {},
   "outputs": [],
   "source": [
    "#создадим матрицу с получившимися значениями"
   ]
  },
  {
   "cell_type": "code",
   "execution_count": 62,
   "metadata": {},
   "outputs": [
    {
     "data": {
      "text/plain": [
       "array([[  78, 1460],\n",
       "       [ 314, 6489]])"
      ]
     },
     "execution_count": 62,
     "metadata": {},
     "output_type": "execute_result"
    }
   ],
   "source": [
    "cr_array= np.array([[sum_control_is_paid,not_paid_control],[sum_testing_is_paid,not_paid_test]])\n",
    "cr_array"
   ]
  },
  {
   "cell_type": "markdown",
   "metadata": {},
   "source": [
    "Считаем критерий независимости хи-квадрат, используя функцию chi2_contingency"
   ]
  },
  {
   "cell_type": "code",
   "execution_count": 63,
   "metadata": {},
   "outputs": [
    {
     "name": "stdout",
     "output_type": "stream",
     "text": [
      "0.44547028437158964\n"
     ]
    }
   ],
   "source": [
    "print(chi2_contingency(cr_array, correction=False)[1])"
   ]
  },
  {
   "cell_type": "markdown",
   "metadata": {},
   "source": [
    "Вывод по 1 гипотезе: pvalue>0.05, поэтому не отвергаем нулевую гипотезу, т.е. значение клиентов, оплативших и не оплативших услуги на сайте, статистически значимо не отличается. Также мы не можем отклонить нулевую гипотезу, конверсии в покупку в группах независимы и их распределения относительно одинаковы"
   ]
  },
  {
   "cell_type": "markdown",
   "metadata": {},
   "source": [
    "### Посмотрим на такие метрики, как средний чек среди всех пользователей сайта(ARPU) и средний чек среди оплативших услуги клиентов(ARPPU), отличаются ли статистически значимо эти метрики в зависимости от выбранной группы"
   ]
  },
  {
   "cell_type": "markdown",
   "metadata": {},
   "source": [
    "Гипотеза 2. H0 -средний чек среди всез пользователей сайта (ARPU) статистически значимо не отличается в зависимости от выбранной группы.H1-ARPU стат.значимо различается в зависимости от выбранной группы. \n",
    "\n",
    "Гипотеза 3. H0-средний чек среди оплативших услуги клиентов(ARPPU) статистически значимо не отличается в зависимости от выбранной группы.H1-ARPPU стат.значимо различается в зависимости от выбранной группы.\n",
    "\n",
    "Поскольку далее будем использовать большое количество итераций для бустрапа,что займет много времени, для оптимизации кода будем считать эти метрики рядом."
   ]
  },
  {
   "cell_type": "code",
   "execution_count": 64,
   "metadata": {},
   "outputs": [
    {
     "data": {
      "text/html": [
       "<div>\n",
       "<style scoped>\n",
       "    .dataframe tbody tr th:only-of-type {\n",
       "        vertical-align: middle;\n",
       "    }\n",
       "\n",
       "    .dataframe tbody tr th {\n",
       "        vertical-align: top;\n",
       "    }\n",
       "\n",
       "    .dataframe thead th {\n",
       "        text-align: right;\n",
       "    }\n",
       "</style>\n",
       "<table border=\"1\" class=\"dataframe\">\n",
       "  <thead>\n",
       "    <tr style=\"text-align: right;\">\n",
       "      <th></th>\n",
       "      <th>group</th>\n",
       "      <th>student_id</th>\n",
       "      <th>rev</th>\n",
       "      <th>is_paid</th>\n",
       "    </tr>\n",
       "  </thead>\n",
       "  <tbody>\n",
       "    <tr>\n",
       "      <th>0</th>\n",
       "      <td>A</td>\n",
       "      <td>1627</td>\n",
       "      <td>990.0</td>\n",
       "      <td>1</td>\n",
       "    </tr>\n",
       "    <tr>\n",
       "      <th>1</th>\n",
       "      <td>A</td>\n",
       "      <td>3391</td>\n",
       "      <td>0.0</td>\n",
       "      <td>0</td>\n",
       "    </tr>\n",
       "    <tr>\n",
       "      <th>2</th>\n",
       "      <td>A</td>\n",
       "      <td>109623</td>\n",
       "      <td>0.0</td>\n",
       "      <td>0</td>\n",
       "    </tr>\n",
       "    <tr>\n",
       "      <th>3</th>\n",
       "      <td>A</td>\n",
       "      <td>133678</td>\n",
       "      <td>0.0</td>\n",
       "      <td>0</td>\n",
       "    </tr>\n",
       "    <tr>\n",
       "      <th>4</th>\n",
       "      <td>A</td>\n",
       "      <td>175944</td>\n",
       "      <td>0.0</td>\n",
       "      <td>0</td>\n",
       "    </tr>\n",
       "  </tbody>\n",
       "</table>\n",
       "</div>"
      ],
      "text/plain": [
       "  group  student_id    rev  is_paid\n",
       "0     A        1627  990.0        1\n",
       "1     A        3391    0.0        0\n",
       "2     A      109623    0.0        0\n",
       "3     A      133678    0.0        0\n",
       "4     A      175944    0.0        0"
      ]
     },
     "execution_count": 64,
     "metadata": {},
     "output_type": "execute_result"
    }
   ],
   "source": [
    "users_and_checks.head()"
   ]
  },
  {
   "cell_type": "code",
   "execution_count": 65,
   "metadata": {},
   "outputs": [
    {
     "data": {
      "text/plain": [
       "<seaborn.axisgrid.FacetGrid at 0x7fb56b0c7208>"
      ]
     },
     "execution_count": 65,
     "metadata": {},
     "output_type": "execute_result"
    },
    {
     "data": {
      "image/png": "[encoded data removed]",
      "text/plain": [
       "<Figure size 402.875x360 with 1 Axes>"
      ]
     },
     "metadata": {
      "needs_background": "light"
     },
     "output_type": "display_data"
    }
   ],
   "source": [
    "sns.displot(data=users_and_checks, x=\"rev\", hue=\"group\")"
   ]
  },
  {
   "cell_type": "code",
   "execution_count": 66,
   "metadata": {},
   "outputs": [],
   "source": [
    "paid_users=users_and_checks.query('is_paid==\"1\"')"
   ]
  },
  {
   "cell_type": "code",
   "execution_count": 67,
   "metadata": {},
   "outputs": [
    {
     "data": {
      "text/plain": [
       "<matplotlib.axes._subplots.AxesSubplot at 0x7fb56b020e48>"
      ]
     },
     "execution_count": 67,
     "metadata": {},
     "output_type": "execute_result"
    },
    {
     "data": {
      "image/png": "[encoded data removed]",
      "text/plain": [
       "<Figure size 432x288 with 1 Axes>"
      ]
     },
     "metadata": {
      "needs_background": "light"
     },
     "output_type": "display_data"
    }
   ],
   "source": [
    "sns.histplot(data=paid_users, x=\"rev\", hue=\"group\", kde=False)"
   ]
  },
  {
   "cell_type": "markdown",
   "metadata": {},
   "source": [
    "Посмотрим на распределение оплат(rev) по отдельности в зависимости от групп и от датафреймов(только оплатившие paid_users или все users_and_checks)"
   ]
  },
  {
   "cell_type": "code",
   "execution_count": 68,
   "metadata": {},
   "outputs": [],
   "source": [
    "#Распределение по оплатившим по группам"
   ]
  },
  {
   "cell_type": "code",
   "execution_count": 69,
   "metadata": {},
   "outputs": [
    {
     "data": {
      "text/plain": [
       "<seaborn.axisgrid.FacetGrid at 0x7fb56567eef0>"
      ]
     },
     "execution_count": 69,
     "metadata": {},
     "output_type": "execute_result"
    },
    {
     "data": {
      "image/png": "[encoded data removed]",
      "text/plain": [
       "<Figure size 360x360 with 1 Axes>"
      ]
     },
     "metadata": {
      "needs_background": "light"
     },
     "output_type": "display_data"
    }
   ],
   "source": [
    "sns.displot(data=paid_users[paid_users.group=='A'], x='rev')"
   ]
  },
  {
   "cell_type": "code",
   "execution_count": 70,
   "metadata": {},
   "outputs": [
    {
     "data": {
      "text/plain": [
       "<seaborn.axisgrid.FacetGrid at 0x7fb565659f98>"
      ]
     },
     "execution_count": 70,
     "metadata": {},
     "output_type": "execute_result"
    },
    {
     "data": {
      "image/png": "[encoded data removed]",
      "text/plain": [
       "<Figure size 360x360 with 1 Axes>"
      ]
     },
     "metadata": {
      "needs_background": "light"
     },
     "output_type": "display_data"
    }
   ],
   "source": [
    "sns.displot(data=paid_users[paid_users.group=='B'], x='rev')"
   ]
  },
  {
   "cell_type": "code",
   "execution_count": 79,
   "metadata": {},
   "outputs": [],
   "source": [
    "control_paid=paid_users.query('group==\"A\"')['rev']"
   ]
  },
  {
   "cell_type": "code",
   "execution_count": 91,
   "metadata": {},
   "outputs": [],
   "source": [
    "testing_paid=paid_users.query('group==\"B\"')['rev']"
   ]
  },
  {
   "cell_type": "code",
   "execution_count": 92,
   "metadata": {},
   "outputs": [],
   "source": [
    "#Проверим требование к гомогенности дисперсий"
   ]
  },
  {
   "cell_type": "code",
   "execution_count": 93,
   "metadata": {},
   "outputs": [
    {
     "data": {
      "text/plain": [
       "LeveneResult(statistic=3.075681699981606, pvalue=0.08025675761347022)"
      ]
     },
     "execution_count": 93,
     "metadata": {},
     "output_type": "execute_result"
    }
   ],
   "source": [
    "levene(control_paid,testing_paid)"
   ]
  },
  {
   "cell_type": "code",
   "execution_count": 90,
   "metadata": {},
   "outputs": [
    {
     "data": {
      "text/html": [
       "<div>\n",
       "<style scoped>\n",
       "    .dataframe tbody tr th:only-of-type {\n",
       "        vertical-align: middle;\n",
       "    }\n",
       "\n",
       "    .dataframe tbody tr th {\n",
       "        vertical-align: top;\n",
       "    }\n",
       "\n",
       "    .dataframe thead tr th {\n",
       "        text-align: left;\n",
       "    }\n",
       "\n",
       "    .dataframe thead tr:last-of-type th {\n",
       "        text-align: right;\n",
       "    }\n",
       "</style>\n",
       "<table border=\"1\" class=\"dataframe\">\n",
       "  <thead>\n",
       "    <tr>\n",
       "      <th></th>\n",
       "      <th colspan=\"8\" halign=\"left\">rev</th>\n",
       "    </tr>\n",
       "    <tr>\n",
       "      <th></th>\n",
       "      <th>count</th>\n",
       "      <th>mean</th>\n",
       "      <th>std</th>\n",
       "      <th>min</th>\n",
       "      <th>25%</th>\n",
       "      <th>50%</th>\n",
       "      <th>75%</th>\n",
       "      <th>max</th>\n",
       "    </tr>\n",
       "    <tr>\n",
       "      <th>group</th>\n",
       "      <th></th>\n",
       "      <th></th>\n",
       "      <th></th>\n",
       "      <th></th>\n",
       "      <th></th>\n",
       "      <th></th>\n",
       "      <th></th>\n",
       "      <th></th>\n",
       "    </tr>\n",
       "  </thead>\n",
       "  <tbody>\n",
       "    <tr>\n",
       "      <th>A</th>\n",
       "      <td>78.0</td>\n",
       "      <td>933.589744</td>\n",
       "      <td>919.932711</td>\n",
       "      <td>199.0</td>\n",
       "      <td>290.00</td>\n",
       "      <td>585.0</td>\n",
       "      <td>1114.75</td>\n",
       "      <td>3660.0</td>\n",
       "    </tr>\n",
       "    <tr>\n",
       "      <th>B</th>\n",
       "      <td>314.0</td>\n",
       "      <td>1257.878992</td>\n",
       "      <td>790.864254</td>\n",
       "      <td>199.0</td>\n",
       "      <td>511.75</td>\n",
       "      <td>1140.0</td>\n",
       "      <td>1900.00</td>\n",
       "      <td>4650.0</td>\n",
       "    </tr>\n",
       "  </tbody>\n",
       "</table>\n",
       "</div>"
      ],
      "text/plain": [
       "         rev                                                                 \n",
       "       count         mean         std    min     25%     50%      75%     max\n",
       "group                                                                        \n",
       "A       78.0   933.589744  919.932711  199.0  290.00   585.0  1114.75  3660.0\n",
       "B      314.0  1257.878992  790.864254  199.0  511.75  1140.0  1900.00  4650.0"
      ]
     },
     "execution_count": 90,
     "metadata": {},
     "output_type": "execute_result"
    }
   ],
   "source": [
    "paid_users[['rev','group']].groupby(['group']).describe()"
   ]
  },
  {
   "cell_type": "markdown",
   "metadata": {},
   "source": [
    "Вывод по распределениям оплативших.\n",
    "\n",
    "Таким образом, распределения среди оплативших клиентов в период A/B тестирования ненормальные, левосторонние, с выбросами 2500 до максимального 4650 в группе \"B\", в контрольной группе A, тоже есть выбросы, но чуть побольше (больше 2000 у.е. (не включая 2000 у.е. до максимального значения 3660 у.е.) Причинами могут быть разные: от некорректного сбора данных до формирования небольшого количества очень лояльных клиентов. В любом случае, для дальнейшего анализа их отрезать не надо, поскольку есть риск потери данных и искажений ARPU и ARPPU. Нулевая гипотеза о равенстве дисперсий генеральных совокупностей не опроверглась"
   ]
  },
  {
   "cell_type": "code",
   "execution_count": null,
   "metadata": {},
   "outputs": [],
   "source": [
    "#Распределение по всем по группам"
   ]
  },
  {
   "cell_type": "code",
   "execution_count": 82,
   "metadata": {},
   "outputs": [
    {
     "data": {
      "text/plain": [
       "<seaborn.axisgrid.FacetGrid at 0x7fb565573b70>"
      ]
     },
     "execution_count": 82,
     "metadata": {},
     "output_type": "execute_result"
    },
    {
     "data": {
      "image/png": "[encoded data removed]",
      "text/plain": [
       "<Figure size 360x360 with 1 Axes>"
      ]
     },
     "metadata": {
      "needs_background": "light"
     },
     "output_type": "display_data"
    }
   ],
   "source": [
    "sns.displot(data=users_and_checks[users_and_checks.group=='A'], x='rev')"
   ]
  },
  {
   "cell_type": "code",
   "execution_count": 83,
   "metadata": {},
   "outputs": [
    {
     "data": {
      "text/plain": [
       "<seaborn.axisgrid.FacetGrid at 0x7fb5656127b8>"
      ]
     },
     "execution_count": 83,
     "metadata": {},
     "output_type": "execute_result"
    },
    {
     "data": {
      "image/png": "[encoded data removed]",
      "text/plain": [
       "<Figure size 360x360 with 1 Axes>"
      ]
     },
     "metadata": {
      "needs_background": "light"
     },
     "output_type": "display_data"
    }
   ],
   "source": [
    "sns.displot(data=users_and_checks[users_and_checks.group=='A'], x='rev')"
   ]
  },
  {
   "cell_type": "code",
   "execution_count": 84,
   "metadata": {},
   "outputs": [],
   "source": [
    "control_group_rev=control_group['rev']"
   ]
  },
  {
   "cell_type": "code",
   "execution_count": 85,
   "metadata": {},
   "outputs": [],
   "source": [
    "testing_group_rev=testing_group['rev']"
   ]
  },
  {
   "cell_type": "code",
   "execution_count": 87,
   "metadata": {},
   "outputs": [],
   "source": [
    "#Проверим требование к гомогенности дисперсий"
   ]
  },
  {
   "cell_type": "code",
   "execution_count": 86,
   "metadata": {},
   "outputs": [
    {
     "data": {
      "text/plain": [
       "LeveneResult(statistic=1.501460829433639, pvalue=0.22048133327049665)"
      ]
     },
     "execution_count": 86,
     "metadata": {},
     "output_type": "execute_result"
    }
   ],
   "source": [
    "levene(control_group_rev, testing_group_rev)"
   ]
  },
  {
   "cell_type": "markdown",
   "metadata": {},
   "source": [
    "Таким образом, распределения среди всех пользователей в период A/B тестирования ненормальные, унимодальные, нулевая гипотеза о равенстве дисперсий генеральных совокупностей не опроверглась"
   ]
  },
  {
   "cell_type": "markdown",
   "metadata": {},
   "source": [
    "Как мы видим, распределения ненормальные, поэтому стоит использовать непараметрические анализы.Тест Колмогорова - Смирнова подходит наиболее всего, однако более наглядным и интуитивно понятным для тех, кто будет смотреть этот отчет будет являться бустрап."
   ]
  },
  {
   "cell_type": "code",
   "execution_count": 102,
   "metadata": {},
   "outputs": [],
   "source": [
    "#Посчитаем наши метрики(ARPU и ARPPU)"
   ]
  },
  {
   "cell_type": "code",
   "execution_count": 103,
   "metadata": {},
   "outputs": [
    {
     "data": {
      "text/html": [
       "<div>\n",
       "<style scoped>\n",
       "    .dataframe tbody tr th:only-of-type {\n",
       "        vertical-align: middle;\n",
       "    }\n",
       "\n",
       "    .dataframe tbody tr th {\n",
       "        vertical-align: top;\n",
       "    }\n",
       "\n",
       "    .dataframe thead th {\n",
       "        text-align: right;\n",
       "    }\n",
       "</style>\n",
       "<table border=\"1\" class=\"dataframe\">\n",
       "  <thead>\n",
       "    <tr style=\"text-align: right;\">\n",
       "      <th></th>\n",
       "      <th>group</th>\n",
       "      <th>converted_users</th>\n",
       "      <th>all_users</th>\n",
       "      <th>revenue</th>\n",
       "      <th>arpu</th>\n",
       "      <th>arppu</th>\n",
       "    </tr>\n",
       "  </thead>\n",
       "  <tbody>\n",
       "    <tr>\n",
       "      <th>0</th>\n",
       "      <td>A</td>\n",
       "      <td>78.0</td>\n",
       "      <td>1538</td>\n",
       "      <td>72820.0000</td>\n",
       "      <td>47.347204</td>\n",
       "      <td>933.589744</td>\n",
       "    </tr>\n",
       "    <tr>\n",
       "      <th>1</th>\n",
       "      <td>B</td>\n",
       "      <td>314.0</td>\n",
       "      <td>6803</td>\n",
       "      <td>394974.0035</td>\n",
       "      <td>58.058798</td>\n",
       "      <td>1257.878992</td>\n",
       "    </tr>\n",
       "  </tbody>\n",
       "</table>\n",
       "</div>"
      ],
      "text/plain": [
       "  group  converted_users  all_users      revenue       arpu        arppu\n",
       "0     A             78.0       1538   72820.0000  47.347204   933.589744\n",
       "1     B            314.0       6803  394974.0035  58.058798  1257.878992"
      ]
     },
     "execution_count": 103,
     "metadata": {},
     "output_type": "execute_result"
    }
   ],
   "source": [
    "stat_df = users_and_checks.groupby(['group'], as_index=False).agg(\n",
    "    converted_users = ('rev', lambda x: x[x > 0].count()),\n",
    "    all_users = ('student_id', lambda x: len(x)),\n",
    "    revenue =  ('rev', lambda x: sum(x))\n",
    ")\n",
    "\n",
    "stat_df['arpu'] = stat_df['revenue']/stat_df['all_users']\n",
    "stat_df['arppu'] = stat_df['revenue']/stat_df['converted_users']\n",
    "\n",
    "stat_df"
   ]
  },
  {
   "cell_type": "code",
   "execution_count": 104,
   "metadata": {},
   "outputs": [],
   "source": [
    "control_group=users_and_checks.query('group==\"A\"')"
   ]
  },
  {
   "cell_type": "code",
   "execution_count": 105,
   "metadata": {},
   "outputs": [],
   "source": [
    "testing_group=users_and_checks.query('group==\"B\"')"
   ]
  },
  {
   "cell_type": "code",
   "execution_count": 106,
   "metadata": {},
   "outputs": [
    {
     "name": "stdout",
     "output_type": "stream",
     "text": [
      "Длина контрольной группы: 1538\n",
      "Длина тестовой группы: 6803\n"
     ]
    }
   ],
   "source": [
    "print('Длина контрольной группы:', len(control_group))\n",
    "print('Длина тестовой группы:', len(testing_group))"
   ]
  },
  {
   "cell_type": "markdown",
   "metadata": {},
   "source": [
    "Поскольку итераций очень много и может показаться, что код завис.Поскольку рекоммендованое количество итераций для бустрепа с целью относительно точного результата обычно требуется количество в диапазоне от 1000 до 10000.Целесообразным в данном случае является использование tqdm, поскольку последний показывает процесс выполнения кода"
   ]
  },
  {
   "cell_type": "code",
   "execution_count": 107,
   "metadata": {},
   "outputs": [],
   "source": [
    "from tqdm import tqdm"
   ]
  },
  {
   "cell_type": "code",
   "execution_count": 110,
   "metadata": {},
   "outputs": [
    {
     "name": "stderr",
     "output_type": "stream",
     "text": [
      "100%|██████████| 9000/9000 [02:46<00:00, 54.16it/s]\n"
     ]
    }
   ],
   "source": [
    "iterations = 9000\n",
    "\n",
    "bootstrap_df = pd.DataFrame()\n",
    "arpu_p_values = []\n",
    "\n",
    "for x in tqdm(range(iterations)):  \n",
    "    iter_df = users_and_checks.sample(frac = 1, replace=True).groupby(['group'], as_index=False).agg(\n",
    "        arpu = ('rev', lambda x: x.sum()/len(x)),\n",
    "        arppu = ('rev', lambda x: x[x>0].sum()/len(x[x>0]))\n",
    "    )\n",
    "    \n",
    "  \n",
    "    control_iter_df = iter_df[iter_df['group'] == 'A'].reset_index()\n",
    "    variant_iter_df = iter_df[iter_df['group'] == 'B'].reset_index()\n",
    "    \n",
    "    bootstrap_df = pd.concat([bootstrap_df, iter_df])"
   ]
  },
  {
   "cell_type": "code",
   "execution_count": 112,
   "metadata": {},
   "outputs": [],
   "source": [
    "#Посмотрим на получившийся датафрейм"
   ]
  },
  {
   "cell_type": "code",
   "execution_count": 111,
   "metadata": {},
   "outputs": [
    {
     "data": {
      "text/html": [
       "<div>\n",
       "<style scoped>\n",
       "    .dataframe tbody tr th:only-of-type {\n",
       "        vertical-align: middle;\n",
       "    }\n",
       "\n",
       "    .dataframe tbody tr th {\n",
       "        vertical-align: top;\n",
       "    }\n",
       "\n",
       "    .dataframe thead th {\n",
       "        text-align: right;\n",
       "    }\n",
       "</style>\n",
       "<table border=\"1\" class=\"dataframe\">\n",
       "  <thead>\n",
       "    <tr style=\"text-align: right;\">\n",
       "      <th></th>\n",
       "      <th>group</th>\n",
       "      <th>arpu</th>\n",
       "      <th>arppu</th>\n",
       "    </tr>\n",
       "  </thead>\n",
       "  <tbody>\n",
       "    <tr>\n",
       "      <th>0</th>\n",
       "      <td>A</td>\n",
       "      <td>37.199351</td>\n",
       "      <td>784.753425</td>\n",
       "    </tr>\n",
       "    <tr>\n",
       "      <th>1</th>\n",
       "      <td>B</td>\n",
       "      <td>58.596825</td>\n",
       "      <td>1207.627285</td>\n",
       "    </tr>\n",
       "    <tr>\n",
       "      <th>0</th>\n",
       "      <td>A</td>\n",
       "      <td>48.260563</td>\n",
       "      <td>835.731707</td>\n",
       "    </tr>\n",
       "    <tr>\n",
       "      <th>1</th>\n",
       "      <td>B</td>\n",
       "      <td>58.355585</td>\n",
       "      <td>1266.078384</td>\n",
       "    </tr>\n",
       "    <tr>\n",
       "      <th>0</th>\n",
       "      <td>A</td>\n",
       "      <td>56.536358</td>\n",
       "      <td>963.045455</td>\n",
       "    </tr>\n",
       "  </tbody>\n",
       "</table>\n",
       "</div>"
      ],
      "text/plain": [
       "  group       arpu        arppu\n",
       "0     A  37.199351   784.753425\n",
       "1     B  58.596825  1207.627285\n",
       "0     A  48.260563   835.731707\n",
       "1     B  58.355585  1266.078384\n",
       "0     A  56.536358   963.045455"
      ]
     },
     "execution_count": 111,
     "metadata": {},
     "output_type": "execute_result"
    }
   ],
   "source": [
    "bootstrap_df.head()"
   ]
  },
  {
   "cell_type": "markdown",
   "metadata": {},
   "source": [
    "используем функцию pd.melt(), чтобы преобразовать данные в длинный формат. В качестве var_name в названии kpi, но в нашем соучае это столбец, который отражает название показателей arppu/arpu,что потом упростит построение графиков "
   ]
  },
  {
   "cell_type": "code",
   "execution_count": 114,
   "metadata": {},
   "outputs": [
    {
     "data": {
      "text/html": [
       "<div>\n",
       "<style scoped>\n",
       "    .dataframe tbody tr th:only-of-type {\n",
       "        vertical-align: middle;\n",
       "    }\n",
       "\n",
       "    .dataframe tbody tr th {\n",
       "        vertical-align: top;\n",
       "    }\n",
       "\n",
       "    .dataframe thead th {\n",
       "        text-align: right;\n",
       "    }\n",
       "</style>\n",
       "<table border=\"1\" class=\"dataframe\">\n",
       "  <thead>\n",
       "    <tr style=\"text-align: right;\">\n",
       "      <th></th>\n",
       "      <th>group</th>\n",
       "      <th>kpi</th>\n",
       "      <th>value</th>\n",
       "    </tr>\n",
       "  </thead>\n",
       "  <tbody>\n",
       "    <tr>\n",
       "      <th>0</th>\n",
       "      <td>A</td>\n",
       "      <td>arppu</td>\n",
       "      <td>784.753425</td>\n",
       "    </tr>\n",
       "    <tr>\n",
       "      <th>1</th>\n",
       "      <td>B</td>\n",
       "      <td>arppu</td>\n",
       "      <td>1207.627285</td>\n",
       "    </tr>\n",
       "    <tr>\n",
       "      <th>2</th>\n",
       "      <td>A</td>\n",
       "      <td>arppu</td>\n",
       "      <td>835.731707</td>\n",
       "    </tr>\n",
       "    <tr>\n",
       "      <th>3</th>\n",
       "      <td>B</td>\n",
       "      <td>arppu</td>\n",
       "      <td>1266.078384</td>\n",
       "    </tr>\n",
       "    <tr>\n",
       "      <th>4</th>\n",
       "      <td>A</td>\n",
       "      <td>arppu</td>\n",
       "      <td>963.045455</td>\n",
       "    </tr>\n",
       "  </tbody>\n",
       "</table>\n",
       "</div>"
      ],
      "text/plain": [
       "  group    kpi        value\n",
       "0     A  arppu   784.753425\n",
       "1     B  arppu  1207.627285\n",
       "2     A  arppu   835.731707\n",
       "3     B  arppu  1266.078384\n",
       "4     A  arppu   963.045455"
      ]
     },
     "execution_count": 114,
     "metadata": {},
     "output_type": "execute_result"
    }
   ],
   "source": [
    "bootstrap_df_melt = pd.melt(bootstrap_df, id_vars = 'group', value_vars = ['arppu', 'arpu'], var_name = 'kpi')\n",
    "bootstrap_df_melt.head()"
   ]
  },
  {
   "cell_type": "code",
   "execution_count": 117,
   "metadata": {},
   "outputs": [],
   "source": [
    "#построим распределения по нашим показателям в зависимости от групп(A,B)"
   ]
  },
  {
   "cell_type": "code",
   "execution_count": 116,
   "metadata": {},
   "outputs": [
    {
     "data": {
      "text/plain": [
       "<seaborn.axisgrid.FacetGrid at 0x7fb565127160>"
      ]
     },
     "execution_count": 116,
     "metadata": {},
     "output_type": "execute_result"
    },
    {
     "data": {
      "image/png": "[encoded data removed]",
      "text/plain": [
       "<Figure size 618.875x288 with 2 Axes>"
      ]
     },
     "metadata": {
      "needs_background": "light"
     },
     "output_type": "display_data"
    }
   ],
   "source": [
    "plot = sns.FacetGrid(bootstrap_df_melt, col=\"kpi\", sharex = False, sharey = False, height = 4, hue = 'group')\n",
    "plot.map_dataframe(sns.histplot, x=\"value\", kde = True, stat = 'density', common_bins = True, fill = True)\n",
    "plot.add_legend()"
   ]
  },
  {
   "cell_type": "markdown",
   "metadata": {},
   "source": [
    "Лучше проверить, что данные для этих распределений не получены из одной и той же совокупности"
   ]
  },
  {
   "cell_type": "code",
   "execution_count": 118,
   "metadata": {},
   "outputs": [],
   "source": [
    "bootstrap_control = bootstrap_df[bootstrap_df['group'] == 'A'].reset_index()\n",
    "bootstrap_testing = bootstrap_df[bootstrap_df['group'] == 'B'].reset_index()"
   ]
  },
  {
   "cell_type": "code",
   "execution_count": 119,
   "metadata": {},
   "outputs": [],
   "source": [
    "#Посчитаем разницу наших показателей разных групп"
   ]
  },
  {
   "cell_type": "code",
   "execution_count": 120,
   "metadata": {},
   "outputs": [],
   "source": [
    "bootstrap_diffs = pd.DataFrame()\n",
    "\n",
    "bootstrap_diffs['arpu_diff'] = bootstrap_testing['arpu'] - bootstrap_control['arpu']\n",
    "bootstrap_diffs['arppu_diff'] = bootstrap_testing['arppu'] - bootstrap_control['arppu']"
   ]
  },
  {
   "cell_type": "code",
   "execution_count": 121,
   "metadata": {},
   "outputs": [],
   "source": [
    "bootstrap_diffs_melt = pd.melt(bootstrap_diffs, value_vars = ['arpu_diff', 'arppu_diff'], var_name = 'kpi')"
   ]
  },
  {
   "cell_type": "code",
   "execution_count": 122,
   "metadata": {},
   "outputs": [],
   "source": [
    "#построим графики для наших разниц"
   ]
  },
  {
   "cell_type": "code",
   "execution_count": 129,
   "metadata": {},
   "outputs": [
    {
     "data": {
      "text/plain": [
       "<seaborn.axisgrid.FacetGrid at 0x7fb55ded5048>"
      ]
     },
     "execution_count": 129,
     "metadata": {},
     "output_type": "execute_result"
    },
    {
     "data": {
      "image/png": "[encoded data removed]",
      "text/plain": [
       "<Figure size 584.8x288 with 2 Axes>"
      ]
     },
     "metadata": {},
     "output_type": "display_data"
    }
   ],
   "source": [
    "alpha = 0.05\n",
    "\n",
    "lower_ci = alpha/2\n",
    "upper_ci = 1 - (alpha/2)\n",
    "\n",
    "plot = sns.FacetGrid(bootstrap_diffs_melt, col=\"kpi\", sharex = False, sharey = True, height = 4)\n",
    "plot.map_dataframe(sns.histplot, x=\"value\", kde = True, stat = 'probability', common_bins = True, fill = True)\n",
    "plot.fig.suptitle('Бустрепные разницы с доверительными интервалами (alpha = ' + str(alpha) + ')')\n",
    "\n",
    "# Линии доверительных интервалов на графиках\n",
    "plot = plot.map(lambda y, **kw: plt.axvline(y.quantile(lower_ci), color='k', linestyle='--'), 'value')\n",
    "plot = plot.map(lambda y, **kw: plt.axvline(y.quantile(upper_ci), color='k', linestyle='--'), 'value')\n",
    "\n",
    "# Примечания к доверительным интервалам\n",
    "plot = plot.map(lambda y, **kw: plt.text(y.quantile(lower_ci),\n",
    "                                         0.04,\n",
    "                                         'Lower CI:' + ' ' * 18 + '\\n' + str(round(y.quantile(lower_ci), 4)) + ' ' * 18,\n",
    "                                         color='k',\n",
    "                                         ha = 'center'),\n",
    "                'value')\n",
    "plot = plot.map(lambda y, **kw: plt.text(y.quantile(upper_ci)*1.125,\n",
    "                                         0.04,\n",
    "                                         ' ' * 18 + 'Upper CI:\\n' + ' ' * 18 + str(round(y.quantile(upper_ci), 4)),\n",
    "                                         color='k',\n",
    "                                         ha = 'center'),\n",
    "                'value')\n",
    "\n",
    "plot.add_legend()"
   ]
  },
  {
   "cell_type": "markdown",
   "metadata": {},
   "source": [
    "Поскольку ноль попадает в 95%-доверительный интервал ARPU, посчитаем вероятность что ARPU в тестовой группе будет хуже, чем ARPU в контрольной группе"
   ]
  },
  {
   "cell_type": "code",
   "execution_count": 130,
   "metadata": {},
   "outputs": [
    {
     "name": "stdout",
     "output_type": "stream",
     "text": [
      "Вероятность того, что ARPU в тестовой группе будет хуже, чем ARPU в контрольной группе, равна 10.37%.\n"
     ]
    }
   ],
   "source": [
    "arpu_prob = (bootstrap_diffs['arpu_diff'] < 0).mean()\n",
    "\n",
    "print('Вероятность того, что ARPU в тестовой группе будет хуже, чем ARPU в контрольной группе, равна', '{:.2%}.'.format(arpu_prob))"
   ]
  },
  {
   "cell_type": "markdown",
   "metadata": {},
   "source": [
    "### Итоги по 1 заданию\n",
    "Таким образом, по 1 заданию я использовала следующие метрики:конверсия со входа на сайт в покупку, поскольку если бы она статистически значимо различалась с контрольной группой, это говорило бы о прямом влиянии новой механики оплаты услуг на сайте. Также я использовала ARPU(средний чек на пользователей в период тестирования) и ARPPU(средний чек среди уже оплативших клиентов), поскольку возможно новая система оплаты на сайте связана с выпадающими рекоммендациями в корзине+ если было неудобно покупать что-то на сайте, вероятно, клиент уже второй раз не вернулся бы и ушел к конкуренту.\n",
    "Различия ARPU и ARPPU являются статистически значимыми(т.е. нулевые гипотезы 2, 3 опроверглись), больше всего новая механика оплаты услуг на сайте положительно влияет на средний чек среди что-то купивших клиентов сайта(ARPPU), чуть меньше на ARPU(средний чек среди пользователей), вероятность что последний при работе нового алгоритма будет хуже составляет (10.37%). Подводя итог, стоит запускать новую механику работы на всех пользователей, поскольку она увеличивает ARPU, ARPPU."
   ]
  },
  {
   "cell_type": "markdown",
   "metadata": {},
   "source": [
    "### Задание 2. SQL\n",
    "\n",
    "2.1 Очень усердные ученики.\n",
    "\n",
    "2.1.1 Условие\n",
    "Образовательные курсы состоят из различных уроков, каждый из которых состоит из нескольких маленьких заданий. Каждое такое маленькое задание называется \"горошиной\".\n",
    "\n",
    "Назовём очень усердным учеником того пользователя, который хотя бы раз за текущий месяц правильно решил 20 горошин."
   ]
  },
  {
   "cell_type": "markdown",
   "metadata": {},
   "source": [
    "2.1.2 Задача\n",
    "Дана таблица default.peas.\n",
    "Необходимо написать оптимальный запрос, который даст информацию о количестве очень усердных студентов.\n",
    "\n",
    "NB! Под усердным студентом мы понимаем студента, который правильно решил 20 задач за текущий месяц."
   ]
  },
  {
   "cell_type": "code",
   "execution_count": 134,
   "metadata": {},
   "outputs": [],
   "source": [
    "connection_default = {'host': 'https://clickhouse.lab.karpov.courses',\n",
    "                      'database':'default',\n",
    "                      'user':'student', \n",
    "                      'password':'dpo_python_2020'\n",
    "                     }"
   ]
  },
  {
   "cell_type": "code",
   "execution_count": 135,
   "metadata": {},
   "outputs": [
    {
     "data": {
      "text/html": [
       "<div>\n",
       "<style scoped>\n",
       "    .dataframe tbody tr th:only-of-type {\n",
       "        vertical-align: middle;\n",
       "    }\n",
       "\n",
       "    .dataframe tbody tr th {\n",
       "        vertical-align: top;\n",
       "    }\n",
       "\n",
       "    .dataframe thead th {\n",
       "        text-align: right;\n",
       "    }\n",
       "</style>\n",
       "<table border=\"1\" class=\"dataframe\">\n",
       "  <thead>\n",
       "    <tr style=\"text-align: right;\">\n",
       "      <th></th>\n",
       "      <th>number_of_average_students</th>\n",
       "      <th>month</th>\n",
       "    </tr>\n",
       "  </thead>\n",
       "  <tbody>\n",
       "    <tr>\n",
       "      <th>0</th>\n",
       "      <td>136</td>\n",
       "      <td>2021-10-01</td>\n",
       "    </tr>\n",
       "  </tbody>\n",
       "</table>\n",
       "</div>"
      ],
      "text/plain": [
       "   number_of_average_students      month\n",
       "0                         136 2021-10-01"
      ]
     },
     "execution_count": 135,
     "metadata": {},
     "output_type": "execute_result"
    }
   ],
   "source": [
    "first_variant_query='''\n",
    "SELECT\n",
    "    COUNT(DISTINCT st_id) as number_of_average_students, month\n",
    "FROM\n",
    "    (SELECT \n",
    "        st_id,\n",
    "        SUM(correct) as sum_of_correct_answers,\n",
    "        toStartOfMonth(timest) as month\n",
    "    FROM \n",
    "        default.peas\n",
    "    GROUP BY\n",
    "        st_id, month\n",
    "    HAVING\n",
    "        SUM(correct) >= 20)\n",
    "GROUP BY month\n",
    "'''\n",
    "task_2_1_2=ph.read_clickhouse(query=first_variant_query, connection=connection_default)\n",
    "task_2_1_2"
   ]
  },
  {
   "cell_type": "markdown",
   "metadata": {},
   "source": [
    "Ответ:количество очень усердных студентов составляет 136 человек"
   ]
  },
  {
   "cell_type": "code",
   "execution_count": 137,
   "metadata": {},
   "outputs": [
    {
     "data": {
      "text/html": [
       "<div>\n",
       "<style scoped>\n",
       "    .dataframe tbody tr th:only-of-type {\n",
       "        vertical-align: middle;\n",
       "    }\n",
       "\n",
       "    .dataframe tbody tr th {\n",
       "        vertical-align: top;\n",
       "    }\n",
       "\n",
       "    .dataframe thead th {\n",
       "        text-align: right;\n",
       "    }\n",
       "</style>\n",
       "<table border=\"1\" class=\"dataframe\">\n",
       "  <thead>\n",
       "    <tr style=\"text-align: right;\">\n",
       "      <th></th>\n",
       "      <th>max_t</th>\n",
       "      <th>min_t</th>\n",
       "    </tr>\n",
       "  </thead>\n",
       "  <tbody>\n",
       "    <tr>\n",
       "      <th>0</th>\n",
       "      <td>2021-10-31</td>\n",
       "      <td>2021-10-30</td>\n",
       "    </tr>\n",
       "  </tbody>\n",
       "</table>\n",
       "</div>"
      ],
      "text/plain": [
       "       max_t      min_t\n",
       "0 2021-10-31 2021-10-30"
      ]
     },
     "execution_count": 137,
     "metadata": {},
     "output_type": "execute_result"
    }
   ],
   "source": [
    "time_query='''\n",
    "SELECT CAST(MAX(timest) as date) as max_t,\n",
    "CAST(MIN(timest) as date) as min_t\n",
    "FROM default.peas\n",
    "'''\n",
    "time_peas=ph.read_clickhouse(query=time_query, connection=connection_default)\n",
    "time_peas"
   ]
  },
  {
   "cell_type": "markdown",
   "metadata": {},
   "source": [
    "Поскольку максимальная дата в таблице-2021 год, я использовала группировку по дате, чтобы узнать за текущий месяц проведения исследования,\n",
    "если бы таблица дополнилась и/или эксперимент длился бы дольше, а в качестве текущего времени считалась бы дата написания ,\n",
    "то запрос выглядел бы следующим образом:"
   ]
  },
  {
   "cell_type": "code",
   "execution_count": 31,
   "metadata": {},
   "outputs": [],
   "source": [
    "another_variant_query='''\n",
    "SELECT\n",
    "    COUNT(DISTINCT st_id) as number_of_average_students\n",
    "FROM\n",
    "    (SELECT \n",
    "        st_id,\n",
    "        SUM(correct) as sum_of_correct_answers,\n",
    "        toStartOfMonth(timest) as month\n",
    "    FROM \n",
    "        default.peas\n",
    "    WHERE\n",
    "        toStartOfMonth(timest) == toStartOfMonth(now())\n",
    "    GROUP BY\n",
    "        st_id, month\n",
    "    HAVING\n",
    "        SUM(correct) >= 20)\n",
    "'''\n",
    "task_2_1_2_another=ph.read_clickhouse(query=another_variant_query, connection=connection_default)"
   ]
  },
  {
   "cell_type": "markdown",
   "metadata": {},
   "source": [
    "2.2 Оптимизация воронки\n",
    "\n",
    "2.2.1 Условие\n",
    "\n",
    "Образовательная платформа предлагает пройти студентам курсы по модели trial: студент может решить бесплатно лишь 30 горошин в день. Для неограниченного количества заданий в определенной дисциплине студенту необходимо приобрести полный доступ. Команда провела эксперимент, где был протестирован новый экран оплаты.\n",
    "\n",
    "2.2.2 Задача\n",
    "\n",
    "Дана таблицы: default.peas (см. выше), default.studs:\n",
    "\n",
    "Необходимо в одном запросе выгрузить следующую информацию о группах пользователей:\n",
    "\n",
    "1)ARPU \n",
    "\n",
    "2)ARPAU \n",
    "\n",
    "3)CR в покупку \n",
    "\n",
    "4)СR активного пользователя в покупку \n",
    "\n",
    "5)CR пользователя из активности по математике (subject = ’math’) в покупку курса по математике\n",
    "\n",
    "ARPU считается относительно всех пользователей, попавших в группы.\n",
    "\n",
    "Активным считается пользователь, за все время решивший больше 10 задач правильно в любых дисциплинах.\n",
    "\n",
    "Активным по математике считается пользователь, за все время решивший 2 или больше задач правильно по математике.\n",
    "\n",
    "Все данные находятся в табличном виде в ClickHouse"
   ]
  },
  {
   "cell_type": "code",
   "execution_count": 32,
   "metadata": {},
   "outputs": [
    {
     "data": {
      "text/html": [
       "<div>\n",
       "<style scoped>\n",
       "    .dataframe tbody tr th:only-of-type {\n",
       "        vertical-align: middle;\n",
       "    }\n",
       "\n",
       "    .dataframe tbody tr th {\n",
       "        vertical-align: top;\n",
       "    }\n",
       "\n",
       "    .dataframe thead th {\n",
       "        text-align: right;\n",
       "    }\n",
       "</style>\n",
       "<table border=\"1\" class=\"dataframe\">\n",
       "  <thead>\n",
       "    <tr style=\"text-align: right;\">\n",
       "      <th></th>\n",
       "      <th>test_grp</th>\n",
       "      <th>CR_to_buy</th>\n",
       "      <th>CR_to_buy_for_active_student</th>\n",
       "      <th>CR_to_buy_for_math_student</th>\n",
       "      <th>ARPAU</th>\n",
       "      <th>ARPAU_for_math_active</th>\n",
       "      <th>ARPU</th>\n",
       "      <th>ARPPU</th>\n",
       "    </tr>\n",
       "  </thead>\n",
       "  <tbody>\n",
       "    <tr>\n",
       "      <th>0</th>\n",
       "      <td>control</td>\n",
       "      <td>0.049180</td>\n",
       "      <td>0.110236</td>\n",
       "      <td>0.102041</td>\n",
       "      <td>10393.700787</td>\n",
       "      <td>9591.836735</td>\n",
       "      <td>4540.983607</td>\n",
       "      <td>92333.333333</td>\n",
       "    </tr>\n",
       "    <tr>\n",
       "      <th>1</th>\n",
       "      <td>pilot</td>\n",
       "      <td>0.101695</td>\n",
       "      <td>0.260417</td>\n",
       "      <td>0.142857</td>\n",
       "      <td>29739.583333</td>\n",
       "      <td>19285.714286</td>\n",
       "      <td>11067.796610</td>\n",
       "      <td>108833.333333</td>\n",
       "    </tr>\n",
       "  </tbody>\n",
       "</table>\n",
       "</div>"
      ],
      "text/plain": [
       "  test_grp  CR_to_buy  CR_to_buy_for_active_student  \\\n",
       "0  control   0.049180                      0.110236   \n",
       "1    pilot   0.101695                      0.260417   \n",
       "\n",
       "   CR_to_buy_for_math_student         ARPAU  ARPAU_for_math_active  \\\n",
       "0                    0.102041  10393.700787            9591.836735   \n",
       "1                    0.142857  29739.583333           19285.714286   \n",
       "\n",
       "           ARPU          ARPPU  \n",
       "0   4540.983607   92333.333333  \n",
       "1  11067.796610  108833.333333  "
      ]
     },
     "execution_count": 32,
     "metadata": {},
     "output_type": "execute_result"
    }
   ],
   "source": [
    "query_for_2_2_2_task='''\n",
    "SELECT    \n",
    "   test_grp,\n",
    "   uniqExactIf(st_id, total_revenue > 0)/ uniqExact(st_id) as CR_to_buy,\n",
    "   uniqExactIf(st_id,active_student=1 and total_revenue > 0)/uniqExactIf(st_id, active_student=1) as CR_to_buy_for_active_student,\n",
    "   uniqExactIf(st_id, math_active_student=1 and total_revenue>0) / uniqExactIf(st_id, math_active_student=1) as CR_to_buy_for_math_student,\n",
    "   sumIf(total_revenue,active_student=1)/uniqExactIf(st_id, active_student=1) as ARPAU,\n",
    "   sumIf(total_revenue, math_active_student=1)/uniqExactIf(st_id, math_active_student=1) as ARPAU_for_math_active,\n",
    "   sum(total_revenue)/uniqExact(st_id) as ARPU,\n",
    "   sum(total_revenue)/uniqExactIf(st_id, total_revenue > 0) as ARPPU\n",
    "   FROM\n",
    "   (\n",
    "       SELECT \n",
    "       D.st_id as st_id,\n",
    "       D.test_grp as test_grp,\n",
    "       C.active_student as active_student,\n",
    "       C.math_active_student as math_active_student,\n",
    "       C.math_rev as math_rev,\n",
    "       C.total_revenue as total_revenue\n",
    "       FROM\n",
    "       (SELECT\n",
    "       st_id,\n",
    "       test_grp \n",
    "       FROM default.studs) as D\n",
    "      LEFT JOIN \n",
    "        (SELECT\n",
    "        B.st_id as st_id,\n",
    "        B.active_student as active_student,\n",
    "        B. math_active_student as math_active_student,\n",
    "        A.math_rev as math_rev,\n",
    "        A.total_revenue as total_revenue\n",
    "        FROM\n",
    "        (SELECT\n",
    "        st_id,\n",
    "        if (sum(correct)>10, 1,0) as active_student,\n",
    "        if (sumIf(correct, subject='Math') >= 2, 1, 0) as math_active_student\n",
    "        FROM default.peas\n",
    "        GROUP BY st_id) as B\n",
    "        LEFT JOIN \n",
    "            (SELECT \n",
    "            st_id,\n",
    "            sumIf(money, subject='Math') as math_rev,\n",
    "            sum(money) as total_revenue\n",
    "            FROM default.final_project_check\n",
    "            GROUP BY st_id) as A\n",
    "        ON B.st_id=A.st_id)as C\n",
    "    ON D.st_id=C.st_id\n",
    "    ) \n",
    "    GROUP BY test_grp\n",
    "'''\n",
    "task_2_2_2=ph.read_clickhouse(query=query_for_2_2_2_task, connection=connection_default)\n",
    "task_2_2_2"
   ]
  },
  {
   "cell_type": "markdown",
   "metadata": {},
   "source": [
    "### Выводы по заданию 2.2.2: \n",
    "    CR в покупку у относительно контрольной группы вырост в 2 раза, \n",
    "    CR в покупку среди активных студентов вырос в 2.36 раза,\n",
    "    CR среди активных студентов по математике вырос на 41%, \n",
    "    ARPAU вырос в 2.86 раза,\n",
    "    ARPAU для активных по математике 2.01 \n",
    "    ARPU вырос в 2.4 раза\n",
    "    ARPPU вырос на 20%\n",
    "Таким образом, новый экран оплаты, разработанный командой, можно раскатывать на всех пользователей"
   ]
  },
  {
   "cell_type": "markdown",
   "metadata": {},
   "source": [
    "### Задание 3. Python\n",
    "\n",
    "### 3.1 Задача\n",
    "Реализуйте функцию, которая будет автоматически подгружать информацию из дополнительного файла groups_add.csv (заголовки могут отличаться) и на основании дополнительных параметров пересчитывать метрики."
   ]
  },
  {
   "cell_type": "markdown",
   "metadata": {},
   "source": [
    "для того, чтобы сверять данные и пересчитывать метрики, захэшируем исходный файл add_group_copy, а затем будем сверять хэши файлов и при не совпадении, пересчитывать метрики...."
   ]
  },
  {
   "cell_type": "code",
   "execution_count": null,
   "metadata": {},
   "outputs": [],
   "source": [
    "#импортируем часть необходимых библиотек"
   ]
  },
  {
   "cell_type": "code",
   "execution_count": 36,
   "metadata": {},
   "outputs": [],
   "source": [
    "import sys\n",
    "import hashlib as hl\n",
    "import os\n",
    "import requests as rq\n",
    "from urllib.parse import urlencode\n",
    "import matplotlib.pyplot as plt"
   ]
  },
  {
   "cell_type": "markdown",
   "metadata": {},
   "source": [
    "В данном задании был использован другой файл groups_add_1 для проверки работы кода, так как изменений в изначальном файле не было. \n",
    "Алгоритм действий следующий:\n",
    "\n",
    "1) загружаю csv-файл groups_add_1\n",
    "\n",
    "2) удаляю все строки с 10 включительно\n",
    "\n",
    "3)смотрю на изменение метрик и по ним пишу выводы\n",
    "\n",
    "Для того, чтобы сохранить исходный csv-файл захешируем его и при несоответствии хэша изначального файла существующему выводим таблицу с изменением метрик и строим графики"
   ]
  },
  {
   "cell_type": "code",
   "execution_count": 37,
   "metadata": {},
   "outputs": [],
   "source": [
    "def get_hash(df):\n",
    "    return hl.sha256(df.to_json().encode()).hexdigest()"
   ]
  },
  {
   "cell_type": "markdown",
   "metadata": {},
   "source": [
    "Для упрощения работы все предшествующие объединения датафреймов(которые были использованы в 1 задании для подсчета метрик) и сами метрики запишем в 1 датафрейм"
   ]
  },
  {
   "cell_type": "code",
   "execution_count": 38,
   "metadata": {},
   "outputs": [],
   "source": [
    "def get_stats(groups_1, group_add_1, active_studs_1, checks_1):    \n",
    "    full_group_1 = pd.concat([groups_1, group_add_1], ignore_index = True)\n",
    "    stats = active_studs_1.merge(full_group_1, left_on = 'student_id', right_on = 'id', how = 'left')\\\n",
    "                        .drop('id', axis = 1).rename(columns = {'grp':'group'})\\\n",
    "                        .merge(checks_1, how = 'left', on = 'student_id')\\\n",
    "                        .groupby(['group','student_id']).agg({'rev':'sum'}).reset_index()\\\n",
    "                        .groupby(['group'], as_index = False)\\\n",
    "                        .agg(converted_users = ('rev', lambda x: x[x > 0].count()),\\\n",
    "                             all_users = ('student_id', lambda x: len(x)),\\\n",
    "                             revenue = ('rev', lambda x: sum(x)))\n",
    "    \n",
    "    stats['arpu'] = stats['revenue'] / stats['all_users']\n",
    "    stats['arppu'] = stats['revenue'] / stats['converted_users']\n",
    "    return stats"
   ]
  },
  {
   "cell_type": "code",
   "execution_count": 39,
   "metadata": {},
   "outputs": [],
   "source": [
    "try:\n",
    "    groups_1 =         pd.read_csv('/mnt/HC_Volume_18315164/home-jupyter/jupyter-a-chudnaja/Проект_2_groups.csv', sep = ';')\n",
    "    group_add_1 =      pd.read_csv('/mnt/HC_Volume_18315164/home-jupyter/jupyter-a-chudnaja/project_2_group_add.csv')\n",
    "    active_studs_1 =   pd.read_csv('/mnt/HC_Volume_18315164/home-jupyter/jupyter-a-chudnaja/Проект_2_active_studs.csv')\n",
    "    checks_1 =         pd.read_csv('/mnt/HC_Volume_18315164/home-jupyter/jupyter-a-chudnaja/Проект_2_checks.csv', sep = ';')\n",
    "\n",
    "except Exception as ex: # обработка исключения \n",
    "    print(ex) \n",
    "    os._exit(1) # остановка программы"
   ]
  },
  {
   "cell_type": "code",
   "execution_count": 40,
   "metadata": {},
   "outputs": [
    {
     "name": "stdout",
     "output_type": "stream",
     "text": [
      "  group  converted_users  all_users      revenue       arpu        arppu  \\\n",
      "0     A             78.0       1535   72820.0000  47.439739   933.589744   \n",
      "1     B            313.0       6794  393074.0035  57.856050  1255.827487   \n",
      "\n",
      "  version  \n",
      "0     new  \n",
      "1     new  \n",
      "  group  converted_users  all_users      revenue  conversion       arpu  \\\n",
      "0     A             78.0       1538   72820.0000    0.050715  47.347204   \n",
      "1     B            314.0       6803  394974.0035    0.046156  58.058798   \n",
      "\n",
      "         arppu version  \n",
      "0   933.589744     old  \n",
      "1  1257.878992     old  \n"
     ]
    },
    {
     "data": {
      "image/png": "[encoded data removed]",
      "text/plain": [
       "<Figure size 345.6x288 with 2 Axes>"
      ]
     },
     "metadata": {
      "needs_background": "light"
     },
     "output_type": "display_data"
    },
    {
     "data": {
      "image/png": "[encoded data removed]",
      "text/plain": [
       "<Figure size 345.6x288 with 2 Axes>"
      ]
     },
     "metadata": {
      "needs_background": "light"
     },
     "output_type": "display_data"
    }
   ],
   "source": [
    "filemode = \"r+\" if os.path.isfile(\"checksum.txt\") else \"w+\" # R+ чтение + запись (не создает файл при отсутствии), W+ чтение + запись поверх (создает файл)\n",
    "hash_fact = get_hash(group_add_1)\n",
    "    \n",
    "with open(\"checksum.txt\", filemode) as file_cs:\n",
    "    hash_prev = file_cs.read()\n",
    "    if (hash_fact != hash_prev):        \n",
    "        \n",
    "        stats = get_stats(groups_1, group_add_1, active_studs_1, checks_1)\n",
    "        stats['version']='new'\n",
    "        \n",
    "        if os.path.isfile(\"stats_old.csv\") == True:\n",
    "            stats_old = pd.read_csv(\"stats_old.csv\", sep = ';')\n",
    "        else:\n",
    "            stats_old = stats.copy()\n",
    "            \n",
    "        stats_old['version']='old'\n",
    "        \n",
    "        print(stats)\n",
    "        print(stats_old)\n",
    "        \n",
    "        stats_total=pd.concat([stats, stats_old])\n",
    "        \n",
    "        \n",
    "        # отрисовка графиков\n",
    "        g = sns.catplot(\n",
    "                data=stats_total, x=\"group\", y=\"arpu\", col=\"version\",\n",
    "                kind=\"bar\", height=4, aspect=.6,\n",
    "                    )\n",
    "        g.set_axis_labels(\"\", \"ARPU\")\n",
    "        plt.show()\n",
    "       \n",
    "        k = sns.catplot(\n",
    "                data=stats_total, x=\"group\", y=\"arppu\", col=\"version\",\n",
    "                kind=\"bar\", height=4, aspect=.6,\n",
    "                    )\n",
    "        k.set_axis_labels(\"\", \"ARPPU\")\n",
    "        plt.show()\n",
    "        \n",
    "        stats.to_csv(\"stats_old.csv\", sep = ';', index = False) # обновление метрик\n",
    "        \n",
    "        file_cs.seek(0) # обновление хэша\n",
    "        file_cs.write(hash_fact)\n",
    "        file_cs.truncate()\n",
    "        \n",
    "    file_cs.close()"
   ]
  },
  {
   "cell_type": "markdown",
   "metadata": {},
   "source": [
    "Исходя из данных графиков, при удалении примерно 90% данных из groups_add_1 изменяются, но на очень маленькое значение.Так происходит из-за джойнов(поскольку не все юзеры были активными в день эксперимента и имели данные по оплате или не оплате услуг на сайте)"
   ]
  }
 ],
 "metadata": {
  "kernelspec": {
   "display_name": "Python 3",
   "language": "python",
   "name": "python3"
  },
  "language_info": {
   "codemirror_mode": {
    "name": "ipython",
    "version": 3
   },
   "file_extension": ".py",
   "mimetype": "text/x-python",
   "name": "python",
   "nbconvert_exporter": "python",
   "pygments_lexer": "ipython3",
   "version": "3.7.3"
  }
 },
 "nbformat": 4,
 "nbformat_minor": 4
}
